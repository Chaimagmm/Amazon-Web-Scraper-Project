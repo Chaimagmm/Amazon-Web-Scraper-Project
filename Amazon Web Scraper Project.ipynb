{
 "cells": [
  {
   "cell_type": "code",
   "execution_count": 1,
   "id": "b41a8dfd-4211-424b-b6ca-c3567a501ffc",
   "metadata": {},
   "outputs": [],
   "source": [
    "# import libraries \n",
    "\n",
    "from bs4 import BeautifulSoup\n",
    "import requests\n",
    "import time\n",
    "import datetime\n",
    "\n",
    "import smtplib"
   ]
  },
  {
   "cell_type": "code",
   "execution_count": 65,
   "id": "9d0fac09-335c-4cea-af60-32210517c9dd",
   "metadata": {},
   "outputs": [
    {
     "name": "stdout",
     "output_type": "stream",
     "text": [
      "\n",
      "                    Data Analyst Definition Data Analysis Distressed T-Shirt\n",
      "                   \n",
      "\n",
      "                       $17.99\n",
      "                      \n"
     ]
    }
   ],
   "source": [
    "# Connect to the website\n",
    "URL = 'https://www.amazon.com/Data-Analyst-Definition-Analysis-Distressed/dp/B0C1THH2KF/ref=sr_1_2?dib=eyJ2IjoiMSJ9.H_xD2LC8KXJb_HUr4wTcfXBduUVwbdPW5JKCGMsl55Y_t9Cm12uBMz5RhiW1hZf_A91ptwgz-DYPuN8B2JrbK_zZTc7P9J60KEacpjme79iVsLtwcED_WFDNVbcWYWoUB1fblDllv2EKWH2gen0zD-YHuRB1HVb8pGmY6yYMd_sDNISnUOyS7LJTRmR6BTFJHprVxRQ6VzhkTNPsKF1BQ2Smv70H_RwdvHPM75xKEnF2TnIF2uc4R7h50ip1YR3ApQRqpGVTzObu9233q65Nz2dgyPwSX3Om6l372cm1fL8.6m0zGELWUkZ19oYQce0cINPlfVGVnSDOjBXul7m-ybQ&dib_tag=se&keywords=data%2Banalyst%2Btshirt&qid=1722318751&sr=8-2'\n",
    "headers = {\"User-Agent\": \"Mozilla/5.0 (Windows NT 10.0; Win64; x64) AppleWebKit/537.36 (KHTML, like Gecko) Chrome/78.0.3904.108 Safari/537.36\", \"Accept-Encoding\":\"gzip, deflate\", \"Accept\":\"text/html,application/xhtml+xml,application/xml;q=0.9,*/*;q=0.8\", \"DNT\":\"1\",\"Connection\":\"close\", \"Upgrade-Insecure-Requests\":\"1\"}\n",
    "page = requests.get(URL, headers= headers)\n",
    "soup1 = BeautifulSoup(page.content , 'html.parser')\n",
    "soup2 = BeautifulSoup(soup1.prettify(), 'html.parser')\n",
    "#print(soup2)\n",
    "title = soup2.find(id='productTitle').get_text()\n",
    "price = soup2.find(class_='a-offscreen').get_text()\n",
    "\n",
    "print(title)\n",
    "print(price)\n",
    "\n"
   ]
  },
  {
   "cell_type": "code",
   "execution_count": 69,
   "id": "81f3af98-915e-4530-826f-6233a5c60f5a",
   "metadata": {},
   "outputs": [
    {
     "name": "stdout",
     "output_type": "stream",
     "text": [
      "Data Analyst Definition Data Analysis Distressed T-Shirt\n",
      "17.99\n"
     ]
    }
   ],
   "source": [
    "# In order to take the elements from the first position \n",
    "price = price.strip()[1:]\n",
    "title = title.strip()\n",
    "\n",
    "print(title)\n",
    "print(price)"
   ]
  },
  {
   "cell_type": "code",
   "execution_count": 73,
   "id": "c0e9ff04-d260-4b86-bb49-c31070eca62d",
   "metadata": {},
   "outputs": [
    {
     "name": "stdout",
     "output_type": "stream",
     "text": [
      "2024-07-30\n"
     ]
    }
   ],
   "source": [
    "import datetime\n",
    "\n",
    "today = datetime.date.today()\n",
    "print(today)"
   ]
  },
  {
   "cell_type": "code",
   "execution_count": 87,
   "id": "11185989-00d0-4b5a-be91-f72b3f803e64",
   "metadata": {},
   "outputs": [],
   "source": [
    "# Creating the csv file to save the data\n",
    "import csv\n",
    "\n",
    "header = ['Title' , 'Price' , 'Date']\n",
    "\n",
    "# Converting our data from string into list\n",
    "data = [title, price, today]\n",
    "# w: for white ,  newline: to leave a line between the data\n",
    "with open('AmazonScraperDataset.csv', 'w', newline='', encoding='UTF8') as f:\n",
    "    writer = csv.writer(f)\n",
    "    writer.writerow(header)\n",
    "    writer.writerow(data)"
   ]
  },
  {
   "cell_type": "code",
   "execution_count": 103,
   "id": "f29b7b2c-37be-4799-8fca-88c8875a705b",
   "metadata": {},
   "outputs": [
    {
     "name": "stdout",
     "output_type": "stream",
     "text": [
      "                                               Title  Price        Date\n",
      "0  Data Analyst Definition Data Analysis Distress...  17.99  2024-07-30\n",
      "1  Data Analyst Definition Data Analysis Distress...  17.99  2024-07-30\n",
      "2  Data Analyst Definition Data Analysis Distress...  17.99  2024-07-30\n",
      "3  Data Analyst Definition Data Analysis Distress...  17.99  2024-07-30\n",
      "4  Data Analyst Definition Data Analysis Distress...  17.99  2024-07-30\n"
     ]
    }
   ],
   "source": [
    "import pandas as pd\n",
    "\n",
    "df = pd.read_csv(r\"C:\\Users\\Admin\\AmazonScraperDataset.csv\")\n",
    "print(df)"
   ]
  },
  {
   "cell_type": "code",
   "execution_count": 101,
   "id": "e83c6454-b55a-44f8-b298-c80e36e1db5f",
   "metadata": {},
   "outputs": [],
   "source": [
    "# Now we are appending the data to the dataframe\n",
    "\n",
    "with open('AmazonScraperDataset.csv', 'a+', newline='', encoding='UTF8') as f:\n",
    "    writer = csv.writer(f)\n",
    "    writer.writerow(data)"
   ]
  },
  {
   "cell_type": "code",
   "execution_count": 105,
   "id": "9b9602de-5e65-41f6-8567-301a4c1f8dcb",
   "metadata": {},
   "outputs": [],
   "source": [
    "# To put the data during the time automaticaly\n",
    "def check_price():\n",
    "    URL = 'https://www.amazon.com/Data-Analyst-Definition-Analysis-Distressed/dp/B0C1THH2KF/ref=sr_1_2?dib=eyJ2IjoiMSJ9.H_xD2LC8KXJb_HUr4wTcfXBduUVwbdPW5JKCGMsl55Y_t9Cm12uBMz5RhiW1hZf_A91ptwgz-DYPuN8B2JrbK_zZTc7P9J60KEacpjme79iVsLtwcED_WFDNVbcWYWoUB1fblDllv2EKWH2gen0zD-YHuRB1HVb8pGmY6yYMd_sDNISnUOyS7LJTRmR6BTFJHprVxRQ6VzhkTNPsKF1BQ2Smv70H_RwdvHPM75xKEnF2TnIF2uc4R7h50ip1YR3ApQRqpGVTzObu9233q65Nz2dgyPwSX3Om6l372cm1fL8.6m0zGELWUkZ19oYQce0cINPlfVGVnSDOjBXul7m-ybQ&dib_tag=se&keywords=data%2Banalyst%2Btshirt&qid=1722318751&sr=8-2'\n",
    "    headers = {\"User-Agent\": \"Mozilla/5.0 (Windows NT 10.0; Win64; x64) AppleWebKit/537.36 (KHTML, like Gecko) Chrome/78.0.3904.108 Safari/537.36\", \"Accept-Encoding\":\"gzip, deflate\", \"Accept\":\"text/html,application/xhtml+xml,application/xml;q=0.9,*/*;q=0.8\", \"DNT\":\"1\",\"Connection\":\"close\", \"Upgrade-Insecure-Requests\":\"1\"}\n",
    "    page = requests.get(URL, headers= headers)\n",
    "    soup1 = BeautifulSoup(page.content , 'html.parser')\n",
    "    soup2 = BeautifulSoup(soup1.prettify(), 'html.parser')\n",
    "    title = soup2.find(id='productTitle').get_text()\n",
    "    price = soup2.find(class_='a-offscreen').get_text()\n",
    "    price = price.strip()[1:]\n",
    "    title = title.strip()\n",
    "    import datetime\n",
    "    today = datetime.date.today()\n",
    "    header = ['Title' , 'Price' , 'Date']\n",
    "    data = [title, price, today]\n",
    "    with open('AmazonScraperDataset.csv', 'a+', newline='', encoding='UTF8') as f:\n",
    "         writer = csv.writer(f)\n",
    "         writer.writerow(data)\n"
   ]
  },
  {
   "cell_type": "code",
   "execution_count": 107,
   "id": "a2921b20-7a47-45d1-a138-36084bb66295",
   "metadata": {},
   "outputs": [
    {
     "ename": "KeyboardInterrupt",
     "evalue": "",
     "output_type": "error",
     "traceback": [
      "\u001b[1;31m---------------------------------------------------------------------------\u001b[0m",
      "\u001b[1;31mKeyboardInterrupt\u001b[0m                         Traceback (most recent call last)",
      "Cell \u001b[1;32mIn[107], line 2\u001b[0m\n\u001b[0;32m      1\u001b[0m \u001b[38;5;28;01mwhile\u001b[39;00m(\u001b[38;5;28;01mTrue\u001b[39;00m):\n\u001b[1;32m----> 2\u001b[0m     check_price()\n\u001b[0;32m      3\u001b[0m     time\u001b[38;5;241m.\u001b[39msleep(\u001b[38;5;241m5\u001b[39m)\n",
      "Cell \u001b[1;32mIn[105], line 16\u001b[0m, in \u001b[0;36mcheck_price\u001b[1;34m()\u001b[0m\n\u001b[0;32m     14\u001b[0m header \u001b[38;5;241m=\u001b[39m [\u001b[38;5;124m'\u001b[39m\u001b[38;5;124mTitle\u001b[39m\u001b[38;5;124m'\u001b[39m , \u001b[38;5;124m'\u001b[39m\u001b[38;5;124mPrice\u001b[39m\u001b[38;5;124m'\u001b[39m , \u001b[38;5;124m'\u001b[39m\u001b[38;5;124mDate\u001b[39m\u001b[38;5;124m'\u001b[39m]\n\u001b[0;32m     15\u001b[0m data \u001b[38;5;241m=\u001b[39m [title, price, today]\n\u001b[1;32m---> 16\u001b[0m \u001b[38;5;28;01mwith\u001b[39;00m \u001b[38;5;28mopen\u001b[39m(\u001b[38;5;124m'\u001b[39m\u001b[38;5;124mAmazonScraperDataset.csv\u001b[39m\u001b[38;5;124m'\u001b[39m, \u001b[38;5;124m'\u001b[39m\u001b[38;5;124ma+\u001b[39m\u001b[38;5;124m'\u001b[39m, newline\u001b[38;5;241m=\u001b[39m\u001b[38;5;124m'\u001b[39m\u001b[38;5;124m'\u001b[39m, encoding\u001b[38;5;241m=\u001b[39m\u001b[38;5;124m'\u001b[39m\u001b[38;5;124mUTF8\u001b[39m\u001b[38;5;124m'\u001b[39m) \u001b[38;5;28;01mas\u001b[39;00m f:\n\u001b[0;32m     17\u001b[0m      writer \u001b[38;5;241m=\u001b[39m csv\u001b[38;5;241m.\u001b[39mwriter(f)\n\u001b[0;32m     18\u001b[0m      writer\u001b[38;5;241m.\u001b[39mwriterow(data)\n",
      "File \u001b[1;32m~\\anaconda3\\Lib\\site-packages\\IPython\\core\\interactiveshell.py:324\u001b[0m, in \u001b[0;36m_modified_open\u001b[1;34m(file, *args, **kwargs)\u001b[0m\n\u001b[0;32m    317\u001b[0m \u001b[38;5;28;01mif\u001b[39;00m file \u001b[38;5;129;01min\u001b[39;00m {\u001b[38;5;241m0\u001b[39m, \u001b[38;5;241m1\u001b[39m, \u001b[38;5;241m2\u001b[39m}:\n\u001b[0;32m    318\u001b[0m     \u001b[38;5;28;01mraise\u001b[39;00m \u001b[38;5;167;01mValueError\u001b[39;00m(\n\u001b[0;32m    319\u001b[0m         \u001b[38;5;124mf\u001b[39m\u001b[38;5;124m\"\u001b[39m\u001b[38;5;124mIPython won\u001b[39m\u001b[38;5;124m'\u001b[39m\u001b[38;5;124mt let you open fd=\u001b[39m\u001b[38;5;132;01m{\u001b[39;00mfile\u001b[38;5;132;01m}\u001b[39;00m\u001b[38;5;124m by default \u001b[39m\u001b[38;5;124m\"\u001b[39m\n\u001b[0;32m    320\u001b[0m         \u001b[38;5;124m\"\u001b[39m\u001b[38;5;124mas it is likely to crash IPython. If you know what you are doing, \u001b[39m\u001b[38;5;124m\"\u001b[39m\n\u001b[0;32m    321\u001b[0m         \u001b[38;5;124m\"\u001b[39m\u001b[38;5;124myou can use builtins\u001b[39m\u001b[38;5;124m'\u001b[39m\u001b[38;5;124m open.\u001b[39m\u001b[38;5;124m\"\u001b[39m\n\u001b[0;32m    322\u001b[0m     )\n\u001b[1;32m--> 324\u001b[0m \u001b[38;5;28;01mreturn\u001b[39;00m io_open(file, \u001b[38;5;241m*\u001b[39margs, \u001b[38;5;241m*\u001b[39m\u001b[38;5;241m*\u001b[39mkwargs)\n",
      "File \u001b[1;32m<frozen codecs>:309\u001b[0m, in \u001b[0;36m__init__\u001b[1;34m(self, errors)\u001b[0m\n",
      "\u001b[1;31mKeyboardInterrupt\u001b[0m: "
     ]
    }
   ],
   "source": [
    "# We will add the data every day\n",
    "while(True):\n",
    "    check_price()\n",
    "    time.sleep(86400)"
   ]
  },
  {
   "cell_type": "code",
   "execution_count": 110,
   "id": "a12fc491-145d-420d-94b9-73d5c6adff54",
   "metadata": {},
   "outputs": [
    {
     "name": "stdout",
     "output_type": "stream",
     "text": [
      "                                               Title  Price        Date\n",
      "0  Data Analyst Definition Data Analysis Distress...  17.99  2024-07-30\n",
      "1  Data Analyst Definition Data Analysis Distress...  17.99  2024-07-30\n",
      "2  Data Analyst Definition Data Analysis Distress...  17.99  2024-07-30\n",
      "3  Data Analyst Definition Data Analysis Distress...  17.99  2024-07-30\n",
      "4  Data Analyst Definition Data Analysis Distress...  17.99  2024-07-30\n",
      "5  Data Analyst Definition Data Analysis Distress...  17.99  2024-07-30\n",
      "6  Data Analyst Definition Data Analysis Distress...  17.99  2024-07-30\n",
      "7  Data Analyst Definition Data Analysis Distress...  17.99  2024-07-30\n",
      "8  Data Analyst Definition Data Analysis Distress...  17.99  2024-07-30\n"
     ]
    }
   ],
   "source": [
    "import pandas as pd\n",
    "\n",
    "df = pd.read_csv(r\"C:\\Users\\Admin\\AmazonScraperDataset.csv\")\n",
    "print(df)"
   ]
  },
  {
   "cell_type": "code",
   "execution_count": null,
   "id": "a11b05d3-e4fd-450c-87c5-49b669a13a48",
   "metadata": {},
   "outputs": [],
   "source": []
  },
  {
   "cell_type": "code",
   "execution_count": null,
   "id": "df6d221f-3f97-458b-9690-646b522c4806",
   "metadata": {},
   "outputs": [],
   "source": []
  },
  {
   "cell_type": "code",
   "execution_count": null,
   "id": "7b4803c1-2081-44e4-9686-6d70b33525ae",
   "metadata": {},
   "outputs": [],
   "source": []
  },
  {
   "cell_type": "code",
   "execution_count": null,
   "id": "730867a0-2ef2-4f3b-8829-58487f474ae4",
   "metadata": {},
   "outputs": [],
   "source": []
  }
 ],
 "metadata": {
  "kernelspec": {
   "display_name": "Python 3 (ipykernel)",
   "language": "python",
   "name": "python3"
  },
  "language_info": {
   "codemirror_mode": {
    "name": "ipython",
    "version": 3
   },
   "file_extension": ".py",
   "mimetype": "text/x-python",
   "name": "python",
   "nbconvert_exporter": "python",
   "pygments_lexer": "ipython3",
   "version": "3.12.4"
  }
 },
 "nbformat": 4,
 "nbformat_minor": 5
}
